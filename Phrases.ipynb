{
 "cells": [
  {
   "cell_type": "code",
   "execution_count": 1,
   "metadata": {},
   "outputs": [],
   "source": [
    "import time\n",
    "import winsound\n",
    "import tkinter as tk\n",
    "import random"
   ]
  },
  {
   "cell_type": "code",
   "execution_count": 2,
   "metadata": {},
   "outputs": [],
   "source": [
    "Phrases = [\n",
    "            \"Seguí el plan. Confiá en el yo de ayer que te encomendó lo de hoy.\",\n",
    "            \"Pequeñitos esfuerzos repetidos día tras día hacen al gran resultado.\",\n",
    "            \"No es que tengamos poco tiempo, sino que perdemos mucho. No lo pierdas.\",\n",
    "            \"La adversidad es una oportunidad para la virtud.\",\n",
    "            \"Hoy es un buen día para hacer las cosas bien.\",\n",
    "            \"Si racionalizás ahora y dejás el deber para después, ¿qué te impide en un rato, y mañana, y siempre?\",\n",
    "            \"La próxima decisión que tomes es el reflejo de lo que sos y vas a ser. Está en tus manos.\",\n",
    "            \"El discomfort es el fuego que forja el carácter.\",\n",
    "            \"Esfuerzos continuos y chiquitos son más poderosos que ráfagas intensas pero despedigadas.\",\n",
    "            \"Recuerdá: lo que te pide el cuerpo no siempre es lo que necesitás.\",\n",
    "            \"Intensificá ahora el hábito de posponer la gratificación espontánea\",\n",
    "            \"Si cumplís tu encomienda actual, estás hecho. Lo demás está planeado.\",\n",
    "            \"Preocupate solo por la hora que tenés por delante.\",\n",
    "            \"Disciplina igual a libertad.\",\n",
    "            \"Solo tres meses más.\",\n",
    "            \"Hacelo ahora. A veces 'después' se convierte en 'nunca'.\"\n",
    "            \"Dejá de hablar de lo que es ser un hombre y sé uno.\",\n",
    "            \"Es una de dos: el dolor de la disciplina o el dolor del lamento.\",\n",
    "            \"Poseer autodisciplina y fuerza de voluntad es tener la capacidad de hacer cosas difíciles o desagradables porque dichas acciones favorecen tu bienestar a largo plazo.\",\n",
    "            \"Una vida carente de disciplina está necesariamente llena de remordimientos.\",\n",
    "            \"Ejercitá tu autocontrol.\",\n",
    "            \"Una voz te dice que no es posible, que no podés: ponela a prueba.\",\n",
    "            \"Sumergite en la tarea. Olvidate de lo externo, de tu cabeza, de lo que digas.\",\n",
    "            \"Fortificar el hábito de no posponer lo que hay que hacer, de hacerlo ya.\",\n",
    "            f\"La regla del 40% dice que cuando la mente de un individuo empieza a decirle que está física o emocionalmente agotado, en realidad solo ha empleado un 40% de su capacidad.\",\n",
    "            \"Escuchás una voz en tu cabeza que te dice que estás muy cansado o débil para seguir. Si le das una pausa a esa voz y te esforzás por hacer un poco más, le restás crédito a su tesis. Y, además, cae en consideración, porque ya no le vas a dar tanta bola, como a alguien que habla al pedo.\",\n",
    "            \"Tenete fe en que podés hacerlo. Otros días mucho más cansado de lo que estás hoy has podido mucho más.\",\n",
    "            \"Pensá en la relajación del momento en que termines, sin reproches ni pendientes.\",\n",
    "            \"El dolor es parte del proceso. Soportalo como un hombre.\",\n",
    "            \"La incomodidad es el grito de tu parte floja, del hombrecito que te quiere todo para él para consumirte. No lo escuches y seguí.\",\n",
    "            \"Ponete a prueba y estudiá hasta qué punto sos capaz de hacer en un día.\",\n",
    "            \"Esto es un experimento científico que tiene el fin de estudiar hasta qué punto podés resistir.\",\n",
    "            \"Vos elegiste hacer esto. Recordá el porqué. No es tedio, tiene sentido. Introducite en el sentido, sé él.\",\n",
    "            \"Cuestioná la legitimidad de las excusas que te estás dando. Anotalas y sometelas a juicio.\",\n",
    "            \"La regla de 10X establece que debes establecer objetivos 10 veces superiores a lo que pensás que querés y luego invertir 10 veces más acción de la que pensás que es necesaria para lograr esos objetivos.\",\n",
    "            \"Ejecutá el plan con disciplina y esfuerzo.\",\n",
    "            \"Si sentís el deseo de abandonar, continuá 10 minutos. Es poquito.\",\n",
    "            \"Recordá el tipo del cincel y la piedra. Sé ese tipo hoy. Recordá tus porqués.\",\n",
    "            \"No esperés más para “estar listo”, o “sentirte preparado”.\",\n",
    "            \"La inacción va de la mano con las excusas.\",\n",
    "            \"Cuando todo se siente cómodo y preparado ya es demasiado tarde, habrás esperado demasiado tiempo.\",\n",
    "            \"Cada vez que esperás a que las circunstancias mejoren te estás diciendo que sos incapaz en el momento presente.\",\n",
    "            \"Podés planificar para el futuro y demorar el inicio todo lo que quieras, pero lo mejor que podés hacer es empezar.\",\n",
    "            \"La disciplina solo surge mediante acciones consistentes.\",\n",
    "            \"Sé consistente. Empezá ahora.\",\n",
    "            \"Pensá en el escenario de vos haciendo todo lo que te falta. Es posible, de lo único que depende es de que sientes el culo y te pongas a laburar más que el resto.\",\n",
    "            \"Sin importar lo mucho que pienses que merecés un descanso o una recompensa por tus acciones pasadas, aceptar esa tendencia a racionalizar o dar excusas va a tener un efecto negativo sobre tu disciplina.\",\n",
    "            \"La recompensa por una buena acción es haberla hecho.\",\n",
    "            \"Lo que necesitás en abundancia no es la autodisciplina por sí misma, sino una gran capacidad para manejar y tolerar la incomodidad.\",\n",
    "            \"De la misma manera que levantar pesas produce molestias pasajeras que contribuyen a fortalecer tu musculatura, actuar de manera disciplinada y tomar las decisiones correctas también fortalece tu “músculo de incomodidad”.\",\n",
    "            \"Convertir en un hábito cotidiano el abrazar situaciones incómodas puede tener un efecto positivo en todos los aspectos de tu vida.\",\n",
    "            \"A la disciplina no le importa que estés exhausto, irritado o abatido: esos son los momentos cuando más la necesitás.\",\n",
    "            \"Compará los impulsos con olas que puedes surfear: ascienden en intensidad, llegan a un pico y, eventualmente, rompen.\",\n",
    "            \"Sentís un impulso. Detenete por un momento. Pensá acerca de él. Prestá atención a las emociones y sensaciones físicas que te provoca. Aceptalo. Notá cómo las sensaciones evolucionan con el transcurso del tiempo. Mientras hacés esto, enfocate en tu respiración para ayudarte a sobrellevar el deseo, imaginá que es una ola y surfeás a través de ella.\",\n",
    "            \"Luchar contra los impulsos es rara vez efectivo, pero al observarlos con curiosidad, sin identificarte con ellos, tenés más probabilidades de superarlos.\",\n",
    "            \"El poder de tus impulsos proviene de tu disposición a consentirlos.\",\n",
    "            \"Los impulsos como una cascada, y batallarlos sería equivalente a tratar de bloquear la caída de agua. Por supuesto, es inevitable que la cascada rompa la barrera, quizás incluso con más fuerza, debido a la presión contenida mientras la bloqueabas. El mindfulness es el escape a esta situación imposible, porque en lugar de tratar de bloquear la cascada, o el deseo, das un paso atrás y solo lo observás.\",\n",
    "            \"Estudiá tus hábitos de manera científica.\",\n",
    "            \"Seguí esforzándote hasta que esto sea tan natural como respirar.\",\n",
    "            \"Las grandes gestas son difíciles, no pueden ser fáciles. Hacelo y contátelo al final del día con orgullo.\",\n",
    "            \"Date herramientas para sentirte orgulloso de vos mismo. ¿O cuáles son las que te enorgullecen ahora? Las que costaron trabajo y dedicación.\"\n",
    "]   \n",
    "\n",
    "\n",
    "def Window_Phrase ():\n",
    "\n",
    "    def Random_Phrase():\n",
    "        return random.choice(Phrases)\n",
    "\n",
    "    Window = tk.Tk()\n",
    "    Window.title(\"\")\n",
    "    Window.geometry(\"400x200\")\n",
    "\n",
    "    Label_Phrase = tk.Label(Window, text=Random_Phrase(), font=(\"Arial\", 14), wraplength=350, justify=\"center\")\n",
    "    Label_Phrase.pack(pady=50)\n",
    "\n",
    "    Window.mainloop()"
   ]
  },
  {
   "cell_type": "markdown",
   "metadata": {},
   "source": [
    "##### Función"
   ]
  },
  {
   "cell_type": "code",
   "execution_count": 3,
   "metadata": {},
   "outputs": [],
   "source": [
    "def Periodic_Phrase(Begin_Hour='08:00', Final_Hour='22:00', Target_Minute=0, Duration_Second=5):\n",
    "    \"\"\"\n",
    "    Genera una alarma cada una hora en un minuto especificado entre las horas especificadas.\n",
    "\n",
    "    :param Begin_Hour: Hora de inicio en formato 24 horas (ejemplo: \"08:00\").\n",
    "    :param Final_Hour: Hora de fin en formato 24 horas (ejemplo: \"18:00\").\n",
    "    :param Target_Minute: Minuto dentro de cada hora donde suena la alarma (por defecto suena en el minuto 0).\n",
    "    :param Duration_Seconds: Cuántos segundos dura la alarma.\n",
    "\n",
    "    \"\"\"\n",
    "\n",
    "    while True:\n",
    "        # Obtener la hora actual\n",
    "        Now = time.localtime()\n",
    "        Actual_Hour = time.strftime(\"%H:%M\", Now)\n",
    "\n",
    "        if Begin_Hour <= Actual_Hour < Final_Hour:\n",
    "            if Now.tm_min == Target_Minute and Now.tm_sec == 0:\n",
    "                Window_Phrase ()\n",
    "            time.sleep(1)\n",
    "\n",
    "        else:\n",
    "            # Si no estamos en el rango de horas, dormir 60 segundos antes de verificar de nuevo\n",
    "            time.sleep(60)"
   ]
  },
  {
   "cell_type": "markdown",
   "metadata": {},
   "source": [
    "__Funciones.__\n",
    "- Se obtiene la hora actual mediante dos funciones.\n",
    "    - __time.localtime()__ devuelve la hora actual como una tupla estructurada.\n",
    "    - __time.strftime()__ formatea esta tupla en una cadena de hora y minutos.\n",
    "- Comprueba si la hora actual está dentro del rango especificado.\n",
    "- Calcula el tiempo restante hasta el próximo minuto en punto y duerme ese tiempo.\n",
    "    - __Now.tm_min__ representa los minutos actuales (0 a 59).\n",
    "    - __60 - Now.tm_min__ calcula cuántos minutos faltan hasta el próximo minuto en punto.\n",
    "    - __(60 - Now.tm_min) * 60__ multiplica los minutos restantes por 60 para convertirlos a segundos.\n",
    "    - __Now.tm_sec__ representa los segundos actuales (0 a 59).\n",
    "    - __(60 - ahora.tm_min) * 60 - ahora.tm_sec__ resta los segundos actuales para obtener la cantidad exacta de segundos restantes hasta el próximo minuto en punto.\n",
    "    - Si hay 34 minutos y 45 segundos en el reloj, entonces 1560 - 45 da 1515 segundos."
   ]
  },
  {
   "cell_type": "markdown",
   "metadata": {},
   "source": [
    "##### Implementación"
   ]
  },
  {
   "cell_type": "code",
   "execution_count": 4,
   "metadata": {},
   "outputs": [],
   "source": [
    "# Iniciar el programa de frases.\n",
    "Periodic_Phrase(Target_Minute=0)"
   ]
  }
 ],
 "metadata": {
  "kernelspec": {
   "display_name": "Python 3",
   "language": "python",
   "name": "python3"
  },
  "language_info": {
   "codemirror_mode": {
    "name": "ipython",
    "version": 3
   },
   "file_extension": ".py",
   "mimetype": "text/x-python",
   "name": "python",
   "nbconvert_exporter": "python",
   "pygments_lexer": "ipython3",
   "version": "3.11.9"
  }
 },
 "nbformat": 4,
 "nbformat_minor": 2
}
